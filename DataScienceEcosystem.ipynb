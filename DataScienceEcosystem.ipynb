{
 "cells": [
  {
   "cell_type": "markdown",
   "id": "544f3457",
   "metadata": {},
   "source": [
    "# Data Science Tools and Ecosystem "
   ]
  },
  {
   "cell_type": "markdown",
   "id": "55eb549f",
   "metadata": {},
   "source": [
    "In this notebook, Data Science Tools and Ecosystem are summarized."
   ]
  },
  {
   "cell_type": "markdown",
   "id": "80b70dbb",
   "metadata": {},
   "source": [
    "**Objectives:**\n",
    "\n",
    "After this course , you will be able to:\n",
    "\n",
    "- List popular languages used by data scientists.\n",
    "- List commonly used libraries used by data scientists.\n",
    "- List commonly used data science tools.\n",
    "- Evaluate arithematic expressions in Python."
   ]
  },
  {
   "cell_type": "markdown",
   "id": "61e5f544",
   "metadata": {},
   "source": [
    "Some of the popular languages that Data Scientists use are:\n",
    "\n",
    "1. Python\n",
    "\n",
    "2. R\n",
    "\n",
    "3. SQL\n",
    "\n",
    "4. Scala\n",
    "\n",
    "5. Java\n",
    "\n",
    "6. C++\n",
    "\n",
    "7. Julia "
   ]
  },
  {
   "cell_type": "markdown",
   "id": "b361b4f9",
   "metadata": {},
   "source": [
    "Some of the commonly used libraries used by Data Scientists include:\n",
    "\n",
    "1. Pandas offers data structures and tools for effective data cleaning, manipulation, and analysis.\n",
    "\n",
    "2. NumPy libraries are based on arrays and matrices, allowing you to apply mathematical functions to the arrays.\n",
    "\n",
    "3. Matplotlib package is the most well-known library for data visualization (e.g. marking graphs and plots). \n",
    "\n",
    "4. Seaborn is a high-level visualization library used for generating heat maps, time series, and violin plots, etc. It is based on matplotlib. \n",
    "\n",
    "5. Scikit-learn library contains tools for statistical modeling.\n",
    "\n",
    "6. TensorFlow is a low-level framework used in large-scale production of deep learning models. \n",
    "\n",
    "7. Apache Spark is a general-purpose cluster-computing framework allowing you to process data using compute clusters.\n"
   ]
  },
  {
   "cell_type": "markdown",
   "id": "704dde49",
   "metadata": {},
   "source": [
    "|Data Science Tools|\n",
    "----------------------------\n",
    "|Jupyter Notebooks|\n",
    "|RStudio|\n",
    "|Spyder|"
   ]
  },
  {
   "cell_type": "markdown",
   "id": "8ca5a217",
   "metadata": {},
   "source": [
    "### Below are a few examples of evaluating arithmetic expressions in Python"
   ]
  },
  {
   "cell_type": "code",
   "execution_count": 1,
   "id": "1c10f9ef",
   "metadata": {},
   "outputs": [
    {
     "data": {
      "text/plain": [
       "17"
      ]
     },
     "execution_count": 1,
     "metadata": {},
     "output_type": "execute_result"
    }
   ],
   "source": [
    "# This a simple arithmetic expression to mutiply then add integers\n",
    "(3*4)+5"
   ]
  },
  {
   "cell_type": "code",
   "execution_count": 2,
   "id": "25a3dd34",
   "metadata": {},
   "outputs": [
    {
     "data": {
      "text/plain": [
       "3.3333333333333335"
      ]
     },
     "execution_count": 2,
     "metadata": {},
     "output_type": "execute_result"
    }
   ],
   "source": [
    "# This will convert 200 minutes to hours by diving by 60\n",
    "200/60"
   ]
  },
  {
   "cell_type": "markdown",
   "id": "31ab7096",
   "metadata": {},
   "source": [
    "## Author\n",
    "Rattiyaporn Kuttiyote"
   ]
  },
  {
   "cell_type": "code",
   "execution_count": null,
   "id": "85083a4d",
   "metadata": {},
   "outputs": [],
   "source": []
  }
 ],
 "metadata": {
  "kernelspec": {
   "display_name": "Python 3 (ipykernel)",
   "language": "python",
   "name": "python3"
  },
  "language_info": {
   "codemirror_mode": {
    "name": "ipython",
    "version": 3
   },
   "file_extension": ".py",
   "mimetype": "text/x-python",
   "name": "python",
   "nbconvert_exporter": "python",
   "pygments_lexer": "ipython3",
   "version": "3.10.9"
  }
 },
 "nbformat": 4,
 "nbformat_minor": 5
}
